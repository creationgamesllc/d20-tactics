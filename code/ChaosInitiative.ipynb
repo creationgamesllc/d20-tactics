{
 "cells": [
  {
   "cell_type": "code",
   "execution_count": 1,
   "id": "35af0e20-9cf5-4998-8100-a7cd29b0043d",
   "metadata": {},
   "outputs": [],
   "source": [
    "# Execute this cell once\n",
    "\n",
    "from random import random, randint\n",
    "\n",
    "def roll_initiative(bonus = 0):\n",
    "    return randint(1,20) + bonus + (random() / 2)\n",
    "\n",
    "def initiative_order(roster):\n",
    "    def keyfunc(pair):\n",
    "        return pair[1]\n",
    "    sorted_initiative = sorted([(creature[0], roll_initiative(creature[1])) for creature in roster], key=keyfunc, reverse=True)\n",
    "    return [f\"{pair[0]}: {pair[1]}\" for pair in enumerate([creature[0] for creature in sorted_initiative])]"
   ]
  },
  {
   "cell_type": "code",
   "execution_count": null,
   "id": "28689d38-5b89-4c95-a1bd-8959770be5ac",
   "metadata": {},
   "outputs": [
    {
     "name": "stdout",
     "output_type": "stream",
     "text": [
      "['0: Blue Wizard',\n",
      " '1: Red militia soldiers',\n",
      " '2: Red Cleric',\n",
      " '3: Red Rogue',\n",
      " '4: Blue goblins']\n"
     ]
    }
   ],
   "source": [
    "# Update the roster with (\"Creature Name\", initiative bonus) pairs at the \n",
    "# start of combat and as creatures die & are removed. Then re-run this cell \n",
    "# to generate initiative order for each round after orders are submitted.\n",
    "\n",
    "from pprint import pp\n",
    "\n",
    "roster = [\n",
    "    (\"Red Cleric\", -1),\n",
    "    (\"Red Rogue\", +3),\n",
    "    (\"Red militia soldiers\", +1),\n",
    "    (\"Blue goblins\", +2),\n",
    "    (\"Blue Wizard\", +8)\n",
    "]\n",
    "\n",
    "pp(initiative_order(roster))"
   ]
  }
 ],
 "metadata": {
  "kernelspec": {
   "display_name": "Python 3 (ipykernel)",
   "language": "python",
   "name": "python3"
  },
  "language_info": {
   "codemirror_mode": {
    "name": "ipython",
    "version": 3
   },
   "file_extension": ".py",
   "mimetype": "text/x-python",
   "name": "python",
   "nbconvert_exporter": "python",
   "pygments_lexer": "ipython3",
   "version": "3.13.5"
  }
 },
 "nbformat": 4,
 "nbformat_minor": 5
}
