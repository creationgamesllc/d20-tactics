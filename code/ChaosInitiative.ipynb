{
 "cells": [
  {
   "cell_type": "code",
   "execution_count": 39,
   "id": "fa8d5a69-aee0-401f-9ef6-b2f338b79173",
   "metadata": {},
   "outputs": [],
   "source": [
    "# Execute this cell once\n",
    "\n",
    "from random import random, randint\n",
    "\n",
    "def roll_initiative(bonus = 0):\n",
    "    return randint(1,20) + bonus + (random() / 2)\n",
    "\n",
    "def initiative_order(roster):\n",
    "    def keyfunc(pair):\n",
    "        return pair[1]\n",
    "    sorted_initiative = sorted([(creature[0], roll_initiative(creature[1])) for creature in roster], key=keyfunc, reverse=True)\n",
    "    return [f\"{pair[0]}: {pair[1]}\" for pair in enumerate([creature[0] for creature in sorted_initiative])]\n"
   ]
  },
  {
   "cell_type": "code",
   "execution_count": 41,
   "id": "8ab65b44-040a-406a-b2e1-31573f595a8e",
   "metadata": {},
   "outputs": [
    {
     "name": "stdout",
     "output_type": "stream",
     "text": [
      "['0: Blue Wizard',\n",
      " '1: Blue goblins',\n",
      " '2: Red Rogue',\n",
      " '3: Red militia soldiers',\n",
      " '4: Red Cleric']\n"
     ]
    }
   ],
   "source": [
    "# Update the roster at the start of combat and as creatures die & are removed.\n",
    "# Then re-run this cell to generate initiative order for each round after orders are submitted.\n",
    "\n",
    "from pprint import pp\n",
    "\n",
    "roster = [\n",
    "    (\"Red Cleric\", -1),\n",
    "    (\"Red Rogue\", +3),\n",
    "    (\"Red militia soldiers\", +1),\n",
    "    (\"Blue goblins\", +2),\n",
    "    (\"Blue Wizard\", +8)\n",
    "]\n",
    "\n",
    "pp(initiative_order(roster))"
   ]
  },
  {
   "cell_type": "code",
   "execution_count": null,
   "id": "5f23a055-8361-4fb8-887a-20e8169456bb",
   "metadata": {},
   "outputs": [],
   "source": []
  },
  {
   "cell_type": "code",
   "execution_count": null,
   "id": "7d5e5340-b188-46c0-ad08-145a6cd616d6",
   "metadata": {},
   "outputs": [],
   "source": []
  }
 ],
 "metadata": {
  "kernelspec": {
   "display_name": "Python 3 (ipykernel)",
   "language": "python",
   "name": "python3"
  },
  "language_info": {
   "codemirror_mode": {
    "name": "ipython",
    "version": 3
   },
   "file_extension": ".py",
   "mimetype": "text/x-python",
   "name": "python",
   "nbconvert_exporter": "python",
   "pygments_lexer": "ipython3",
   "version": "3.13.5"
  }
 },
 "nbformat": 4,
 "nbformat_minor": 5
}
